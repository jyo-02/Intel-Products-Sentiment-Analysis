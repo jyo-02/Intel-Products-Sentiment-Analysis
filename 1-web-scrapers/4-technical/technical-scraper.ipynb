{
 "cells": [
  {
   "cell_type": "markdown",
   "metadata": {},
   "source": [
    "# <div style=\"padding: 30px; color:white; margin:10; font-size:95%; text-align:left; display:fill; border-radius:10px; background-color:#3b3745\"><b> Intel Review - Web Scraping - Techincal Reviews Scraper using Selenium</b></div>"
   ]
  },
  {
   "cell_type": "markdown",
   "metadata": {},
   "source": [
    "<div style=\"background-color: #3b3745; border-radius: 12px; padding: 20px; box-shadow: 0 4px 8px 0 rgba(0,0,0,0.2);\">\n",
    "    <h2 style=\"color: #F1A424; text-align: center;\">Table of Contents</h2>\n",
    "    <ul style=\"list-style: none; padding: 0;\">\n",
    "        <li><a href=\"#section-1\" style=\"color: white; text-decoration: none; display: flex; align-items: center; padding: 8px 15px; border-radius: 6px; transition: background-color 0.3s;\"><span style=\"margin-right: 10px; font-weight: bold; color: #F1A424;\">1.</span>  Importing Libraries</a></li>\n",
    "        <li><a href=\"#section-2\" style=\"color: white; text-decoration: none; display: flex; align-items: center; padding: 8px 15px; border-radius: 6px; transition: background-color 0.3s;\"><span style=\"margin-right: 10px; font-weight: bold; color: #F1A424;\">2.</span> Extracting links of Technical Reviews</a></li>\n",
    "        <li><a href=\"#section-3\" style=\"color: white; text-decoration: none; display: flex; align-items: center; padding: 8px 15px; border-radius: 6px; transition: background-color 0.3s;\"><span style=\"margin-right: 10px; font-weight: bold; color: #F1A424;\">3.</span>   Scraping Technical Reviews </a></li>\n",
    "    </ul>\n",
    "</div>"
   ]
  },
  {
   "cell_type": "markdown",
   "metadata": {},
   "source": [
    "<a id=\"section-1\"></a>\n",
    "# <div style=\"padding: 30px; color:white; margin:10; font-size:75%; text-align:left; display:fill; border-radius:10px; background-color:#3b3745\"><b><span style='color:#F1A424'>1 |</span></b> <b>  Importing Libraries</b></div>"
   ]
  },
  {
   "cell_type": "code",
   "execution_count": 1,
   "metadata": {},
   "outputs": [],
   "source": [
    "from selenium.webdriver.common.by import By\n",
    "from selenium.webdriver.support.ui import WebDriverWait\n",
    "from selenium.webdriver.support import expected_conditions as EC\n",
    "from selenium.webdriver import Firefox\n",
    "import pandas as pd\n",
    "from selenium import webdriver\n",
    "import time"
   ]
  },
  {
   "cell_type": "code",
   "execution_count": 2,
   "metadata": {},
   "outputs": [
    {
     "name": "stdout",
     "output_type": "stream",
     "text": [
      "Collecting webdriver-manager\n",
      "  Downloading webdriver_manager-4.0.1-py2.py3-none-any.whl.metadata (12 kB)\n",
      "Requirement already satisfied: requests in /Library/Frameworks/Python.framework/Versions/3.12/lib/python3.12/site-packages (from webdriver-manager) (2.32.1)\n",
      "Collecting python-dotenv (from webdriver-manager)\n",
      "  Downloading python_dotenv-1.0.1-py3-none-any.whl.metadata (23 kB)\n",
      "Requirement already satisfied: packaging in /Library/Frameworks/Python.framework/Versions/3.12/lib/python3.12/site-packages (from webdriver-manager) (24.0)\n",
      "Requirement already satisfied: charset-normalizer<4,>=2 in /Library/Frameworks/Python.framework/Versions/3.12/lib/python3.12/site-packages (from requests->webdriver-manager) (3.3.2)\n",
      "Requirement already satisfied: idna<4,>=2.5 in /Library/Frameworks/Python.framework/Versions/3.12/lib/python3.12/site-packages (from requests->webdriver-manager) (2.10)\n",
      "Requirement already satisfied: urllib3<3,>=1.21.1 in /Library/Frameworks/Python.framework/Versions/3.12/lib/python3.12/site-packages (from requests->webdriver-manager) (2.2.1)\n",
      "Requirement already satisfied: certifi>=2017.4.17 in /Library/Frameworks/Python.framework/Versions/3.12/lib/python3.12/site-packages (from requests->webdriver-manager) (2024.2.2)\n",
      "Downloading webdriver_manager-4.0.1-py2.py3-none-any.whl (27 kB)\n",
      "Downloading python_dotenv-1.0.1-py3-none-any.whl (19 kB)\n",
      "Installing collected packages: python-dotenv, webdriver-manager\n",
      "Successfully installed python-dotenv-1.0.1 webdriver-manager-4.0.1\n",
      "Note: you may need to restart the kernel to use updated packages.\n"
     ]
    }
   ],
   "source": [
    "%pip install webdriver-manager\n"
   ]
  },
  {
   "cell_type": "markdown",
   "metadata": {},
   "source": [
    "<a id=\"section-2\"></a>\n",
    "# <div style=\"padding: 30px; color:white; margin:10; font-size:75%; text-align:left; display:fill; border-radius:10px; background-color:#3b3745\"><b><span style='color:#F1A424'>2 |</span></b> <b> Extracting links of Techical Reviews</b></div>"
   ]
  },
  {
   "cell_type": "code",
   "execution_count": null,
   "metadata": {},
   "outputs": [],
   "source": [
    "filename = 'processors.txt'\n",
    "\n",
    "with open(filename, 'r') as file:\n",
    "    processor_names = [line.strip() for line in file.readlines()]\n",
    "\n",
    "driver = Firefox()\n",
    "driver.maximize_window()\n",
    "\n",
    "# Test search query\n",
    "test_query = 'test query'\n",
    "try:\n",
    "    driver.get(f'https://www.google.com/search?q={test_query}')\n",
    "    \n",
    "    WebDriverWait(driver, 10).until(EC.presence_of_element_located((By.CSS_SELECTOR, 'h3')))\n",
    "    \n",
    "    print(\"Google search test successful.\")\n",
    "except Exception as ex:\n",
    "    print(f\"Error during Google search test: {ex}\")\n",
    "    driver.quit()\n",
    "    exit()\n",
    "\n",
    "results = []\n",
    "\n",
    "# Websites to search\n",
    "websites = {\n",
    "    'tomshardware': 'site:tomshardware.com',\n",
    "    'pcmag': 'site:pcmag.com'\n",
    "}\n",
    "\n",
    "for processor_name in processor_names:\n",
    "    processor_name_cleaned = processor_name.replace(' ', '+')\n",
    "    \n",
    "    for site, site_keyword in websites.items():\n",
    "        search_query = f'{processor_name_cleaned}+{site_keyword}+review'\n",
    "        try:\n",
    "            driver.get(f'https://www.google.com/search?q={search_query}')\n",
    "            \n",
    "            WebDriverWait(driver, 10).until(EC.presence_of_element_located((By.CSS_SELECTOR, 'h3')))\n",
    "            \n",
    "            search_results = driver.find_elements(By.CSS_SELECTOR, 'h3')\n",
    "            first_result = search_results[0]\n",
    "            link = first_result.find_element(By.XPATH, './../../a').get_attribute('href')\n",
    "            \n",
    "            results.append({\n",
    "                'Processor': processor_name,\n",
    "                'Source': site,\n",
    "                'URL': link\n",
    "            })\n",
    "            \n",
    "            print(f\"Found {site} review for {processor_name}\")\n",
    "        except Exception as ex:\n",
    "            print(f\"Error processing {site} review for {processor_name}: {ex}\")\n",
    "    \n",
    "# Saving results to CSV\n",
    "df = pd.DataFrame(results)\n",
    "df.to_csv('processors_links.csv', index=False)\n",
    "\n",
    "driver.quit()\n",
    "print(\"Finished\")\n"
   ]
  },
  {
   "cell_type": "markdown",
   "metadata": {},
   "source": [
    "<a id=\"section-3\"></a>\n",
    "# <div style=\"padding: 30px; color:white; margin:10; font-size:75%; text-align:left; display:fill; border-radius:10px; background-color:#3b3745\"><b><span style='color:#F1A424'>3 |</span></b> <b> Scraping Technical Reviews</b></div>"
   ]
  },
  {
   "cell_type": "code",
   "execution_count": null,
   "metadata": {},
   "outputs": [],
   "source": [
    "driver = Firefox()\n",
    "driver.maximize_window()\n",
    "\n",
    "# Function to scrape content from tomshardware.com\n",
    "def scrape_tomshardware(url):\n",
    "    driver.get(url)\n",
    "    time.sleep(15)  # Wait for the page to load completely\n",
    "    main_content = driver.find_element(By.ID, 'article-body')\n",
    "    # Extract the paragraphs that are not inside figure or aside tags and do not contain a tags\n",
    "    paragraphs = main_content.find_elements(By.XPATH, './/p[not(ancestor::figure) and not(ancestor::aside) and not(descendant::a)]')\n",
    "    # Join the text content of the paragraphs\n",
    "    content = ' '.join([para.text for para in paragraphs])\n",
    "    return content\n",
    "\n",
    "# Function to scrape content from pcgamer.com\n",
    "def scrape_pcmag(url):\n",
    "    driver.get(url)\n",
    "    time.sleep(5)  \n",
    "    content_container = driver.find_element(By.ID, 'article')  \n",
    "    paragraphs = content_container.find_elements(By.TAG_NAME, 'p')\n",
    "    content = ' '.join([para.text for para in paragraphs])\n",
    "    return content\n",
    "\n",
    "# Read input CSV file\n",
    "input_csv = 'processors_links.csv'\n",
    "df = pd.read_csv(input_csv)\n",
    "\n",
    "results = []\n",
    "\n",
    "for index, row in df.iterrows():\n",
    "    processor = row['Processor']\n",
    "    source = row['Source']\n",
    "    url = row['URL']\n",
    "    \n",
    "    if source == 'tomshardware':\n",
    "        content = scrape_tomshardware(url)\n",
    "    elif source == 'pcmag':\n",
    "        content = scrape_pcmag(url)\n",
    "    else:\n",
    "        content = f\"Scraping function not defined for source: {source}\"\n",
    "    \n",
    "    results.append({'Processor': processor, 'Source': source, 'Content': content})\n",
    "\n",
    "driver.quit()\n",
    "\n",
    "results_df = pd.DataFrame(results)\n",
    "\n",
    "# Save the results to a new CSV file\n",
    "output_csv = 'scraped_processors.csv'\n",
    "results_df.to_csv(output_csv, index=False)\n",
    "\n",
    "print(f\"Scraping completed. Data saved to {output_csv}\")\n"
   ]
  },
  {
   "cell_type": "markdown",
   "metadata": {},
   "source": [
    "                                   This concludes the analysis presented in this notebook.\n"
   ]
  },
  {
   "cell_type": "code",
   "execution_count": null,
   "metadata": {},
   "outputs": [],
   "source": []
  }
 ],
 "metadata": {
  "kernelspec": {
   "display_name": "Python 3 (ipykernel)",
   "language": "python",
   "name": "python3"
  },
  "language_info": {
   "codemirror_mode": {
    "name": "ipython",
    "version": 3
   },
   "file_extension": ".py",
   "mimetype": "text/x-python",
   "name": "python",
   "nbconvert_exporter": "python",
   "pygments_lexer": "ipython3",
   "version": "3.12.3"
  }
 },
 "nbformat": 4,
 "nbformat_minor": 4
}
