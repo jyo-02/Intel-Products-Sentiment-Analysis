{
 "cells": [
  {
   "cell_type": "markdown",
   "metadata": {},
   "source": [
    "# <div style=\"padding: 30px; color:white; margin:10; font-size:95%; text-align:left; display:fill; border-radius:10px; background-color:#3b3745\"><b> Intel Review - CSV Cleaning</b></div>"
   ]
  },
  {
   "cell_type": "code",
   "execution_count": 1,
   "metadata": {},
   "outputs": [
    {
     "name": "stdout",
     "output_type": "stream",
     "text": [
      "File '../temp.csv' successfully converted to UTF-8.\n"
     ]
    }
   ],
   "source": [
    "import pandas as pd\n",
    "\n",
    "# Function to read CSV file with fallback encodings\n",
    "def read_csv_with_fallback(filename, encodings=['ISO-8859-1', 'Windows-1252']):\n",
    "    for enc in encodings:\n",
    "        try:\n",
    "            df = pd.read_csv(filename, encoding=enc)\n",
    "            return df\n",
    "        except UnicodeDecodeError:\n",
    "            continue\n",
    "    raise ValueError(\"Unable to read CSV file with specified encodings\")\n",
    "\n",
    "# Function to clean and normalize text (replace invalid characters)\n",
    "def clean_text(text):\n",
    "    # Example: Replace em-dash with hyphen\n",
    "    cleaned_text = text.replace('\\u0097', '-')  # Adjust as needed\n",
    "    return cleaned_text\n",
    "\n",
    "# Input and output filenames\n",
    "input_file = '../scraped_processors.csv'\n",
    "output_file = '../temp.csv'\n",
    "\n",
    "# Read CSV with fallback encodings\n",
    "df = read_csv_with_fallback(input_file)\n",
    "\n",
    "# Clean text data in specific columns\n",
    "columns_to_clean = ['Processor', 'Source', 'Content']\n",
    "for col in columns_to_clean:\n",
    "    df[col] = df[col].apply(clean_text)\n",
    "\n",
    "# Save cleaned data to UTF-8 encoded CSV\n",
    "df.to_csv(output_file, encoding='utf-8', index=False)\n",
    "\n",
    "print(f\"File '{output_file}' successfully converted to UTF-8.\")\n"
   ]
  }
 ],
 "metadata": {
  "kernelspec": {
   "display_name": "Python 3 (ipykernel)",
   "language": "python",
   "name": "python3"
  },
  "language_info": {
   "codemirror_mode": {
    "name": "ipython",
    "version": 3
   },
   "file_extension": ".py",
   "mimetype": "text/x-python",
   "name": "python",
   "nbconvert_exporter": "python",
   "pygments_lexer": "ipython3",
   "version": "3.12.3"
  }
 },
 "nbformat": 4,
 "nbformat_minor": 4
}
