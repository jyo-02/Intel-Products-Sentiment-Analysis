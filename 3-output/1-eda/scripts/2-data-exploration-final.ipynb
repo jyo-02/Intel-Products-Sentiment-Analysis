{
 "cells": [
  {
   "cell_type": "markdown",
   "id": "2145cf0e-4f3b-41b5-a603-4d142495b690",
   "metadata": {},
   "source": [
    "# Intel Review - Exploratory Data Analysis 1.0"
   ]
  },
  {
   "cell_type": "markdown",
   "id": "38624747-092f-4407-97d2-a1f3fc5a4899",
   "metadata": {},
   "source": [
    "### Importing required libraries"
   ]
  },
  {
   "cell_type": "code",
   "execution_count": null,
   "id": "943e9dff-d36c-4fb5-ad49-47c1ef18cad4",
   "metadata": {},
   "outputs": [],
   "source": []
  }
 ],
 "metadata": {
  "kernelspec": {
   "display_name": "Python 3 (ipykernel)",
   "language": "python",
   "name": "python3"
  },
  "language_info": {
   "codemirror_mode": {
    "name": "ipython",
    "version": 3
   },
   "file_extension": ".py",
   "mimetype": "text/x-python",
   "name": "python",
   "nbconvert_exporter": "python",
   "pygments_lexer": "ipython3",
   "version": "3.12.3"
  }
 },
 "nbformat": 4,
 "nbformat_minor": 5
}
