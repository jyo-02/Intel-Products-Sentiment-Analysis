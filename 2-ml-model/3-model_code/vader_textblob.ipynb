{
 "cells": [
  {
   "cell_type": "markdown",
   "metadata": {},
   "source": [
    "# <div style=\"padding: 30px; color:white; margin:5; font-size:95%; text-align:left; display:fill; border-radius:10px; background-color:#3b3745\"><b> Intel Review - Sentiment Analysis - VADER Model & TextBlob Model</b></div>"
   ]
  },
  {
   "cell_type": "markdown",
   "metadata": {},
   "source": [
    "<div style=\"background-color: #3b3745; padding: 20px; border-radius: 5px; box-shadow: 0 4px 6px rgba(0, 0, 0, 0.1);\">\n",
    "    <h2 style=\"color: #F1A424; text-align: center; font-size: 24px; border-bottom: 2px solid #F1A424; display: inline-block; padding-bottom: 5px;\">📜 Overview</h2>\n",
    "    <ul style=\"list-style: none; padding-left: 0;\">\n",
    "        <li style=\"background-color: #3b3745; border: 1px solid #badbcc; margin-bottom: 10px; border-radius: 5px; padding: 10px; color: white;\">\n",
    "            <span style=\"font-weight: bold; font-size: 18px;\">1. Objective</span>\n",
    "            <ul style=\"list-style: circle; padding-left: 20px; color: white;\">\n",
    "                <li>Analyzing our Intel Processor Dataset and building classification models to predict if the sentiment of a given input sentence is positive or negative.</li>\n",
    "            </ul>\n",
    "        </li>\n",
    "        <li style=\"background-color: #3b3745; border: 1px solid #badbcc; margin-bottom: 10px; border-radius: 5px; padding: 10px; color: white;\">\n",
    "            <span style=\"font-weight: bold; font-size: 18px;\">2. Model Training and Evaluation</span>\n",
    "            <ul style=\"list-style: circle; padding-left: 20px; color: white;\">\n",
    "                <li>The Models perform Sentiment Analysis on our Dataset scraped from e-commerce websites in real-time.</li>\n",
    "            </ul>\n",
    "        </li>\n",
    "        <li style=\"background-color: #3b3745; border: 1px solid #badbcc; margin-bottom: 10px; border-radius: 5px; padding: 10px; color: white;\">\n",
    "            <span style=\"font-weight: bold; font-size: 18px;\">3. VADER Modelling</span>\n",
    "            <ul style=\"list-style: circle; padding-left: 20px; color: white;\">\n",
    "                <li>Downloading Model</li>\n",
    "                <li>Reading CSV File</li>\n",
    "                <li>Dropping Entries with Missing Values</li>\n",
    "                <li>Performing Sentiment Analysis on Our Dataset</li>\n",
    "                <li>Saving results in a new CSV</li>\n",
    "            </ul>\n",
    "        </li>\n",
    "        <li style=\"background-color: #3b3745; border: 1px solid #badbcc; margin-bottom: 10px; border-radius: 5px; padding: 10px; color: white;\">\n",
    "            <span style=\"font-weight: bold; font-size: 18px;\">3. TextBlob Modelling</span>\n",
    "            <ul style=\"list-style: circle; padding-left: 20px; color: white;\">\n",
    "                <li>Reading CSV File</li>\n",
    "                <li>Performing Sentiment Analysis on Our Dataset</li>\n",
    "                <li>Saving results in a new CSV</li>\n",
    "            </ul>\n",
    "        </li>\n",
    "    </ul>\n",
    "</div>"
   ]
  },
  {
   "cell_type": "markdown",
   "metadata": {},
   "source": [
    "<div style=\"background-color: #3b3745; border-radius: 12px; padding: 20px; box-shadow: 0 4px 8px 0 rgba(0,0,0,0.2);\">\n",
    "    <h2 style=\"color: #F1A424; text-align: center;\">Table of Contents</h2>\n",
    "    <ul style=\"list-style: none; padding: 0;\">\n",
    "        <li><a href=\"#section-1\" style=\"color: white; text-decoration: none; display: flex; align-items: center; padding: 8px 15px; border-radius: 6px; transition: background-color 0.3s;\"><span style=\"margin-right: 10px; font-weight: bold; color: #F1A424;\">1.</span>  Importing Libraries</a></li>\n",
    "        <li><a href=\"#section-2\" style=\"color: white; text-decoration: none; display: flex; align-items: center; padding: 8px 15px; border-radius: 6px; transition: background-color 0.3s;\"><span style=\"margin-right: 10px; font-weight: bold; color: #F1A424;\">2.</span> VADER Modelling</a></li>\n",
    "        <li><a href=\"#section-3\" style=\"color: white; text-decoration: none; display: flex; align-items: center; padding: 8px 15px; border-radius: 6px; transition: background-color 0.3s;\"><span style=\"margin-right: 10px; font-weight: bold; color: #F1A424;\">3.</span> TextBlob Modelling</a></li>\n",
    "    </ul>\n",
    "</div>"
   ]
  },
  {
   "cell_type": "markdown",
   "metadata": {},
   "source": [
    "<a id=\"section-1\"></a>\n",
    "# <div style=\"padding: 30px; color:white; margin:10; font-size:75%; text-align:left; display:fill; border-radius:10px; background-color:#3b3745\"><b><span style='color:#F1A424'>1 |</span></b> <b>  Importing Libraries</b></div>"
   ]
  },
  {
   "cell_type": "code",
   "execution_count": null,
   "metadata": {},
   "outputs": [],
   "source": [
    "import pandas as pd\n",
    "from nltk.sentiment.vader import SentimentIntensityAnalyzer\n",
    "import nltk\n",
    "import re\n",
    "from textblob import TextBlob"
   ]
  },
  {
   "cell_type": "markdown",
   "metadata": {},
   "source": [
    "<a id=\"section-2\"></a>\n",
    "# <div style=\"padding: 30px; color:white; margin:10; font-size:75%; text-align:left; display:fill; border-radius:10px; background-color:#3b3745\"><b><span style='color:#F1A424'>2 |</span></b> <b> VADER Modelling</b></div>"
   ]
  },
  {
   "cell_type": "code",
   "execution_count": 6,
   "metadata": {},
   "outputs": [
    {
     "name": "stderr",
     "output_type": "stream",
     "text": [
      "[nltk_data] Downloading package vader_lexicon to\n",
      "[nltk_data]     C:\\Users\\KIIT\\AppData\\Roaming\\nltk_data...\n",
      "[nltk_data]   Package vader_lexicon is already up-to-date!\n"
     ]
    }
   ],
   "source": [
    "\n",
    "# Download the VADER lexicon\n",
    "nltk.download('vader_lexicon')\n",
    "\n",
    "# Initialize the VADER sentiment analyzer\n",
    "sia = SentimentIntensityAnalyzer()\n",
    "\n",
    "# Read the CSV file\n",
    "file_path = '../review_data/dataset_7.csv'\n",
    "df = pd.read_csv(file_path)\n",
    "\n",
    "# Function to analyze sentiment\n",
    "def clean_review(review):\n",
    "    if pd.isna(review):\n",
    "        return None\n",
    "    review = str(review)  # Ensure the review is a string\n",
    "    review = review.lower()  # Convert to lowercase\n",
    "    review = re.sub(r'[^a-zA-Z\\s]', '', review)  # Remove non-alphabetic characters\n",
    "    review = re.sub(r'\\s+', ' ', review).strip()  # Remove extra whitespace\n",
    "    return review if review else None\n",
    "\n",
    "# Clean the 'Review' column in place\n",
    "df['Review'] = df['Review'].apply(clean_review)\n",
    "\n",
    "# Drop rows where 'Review' is None\n",
    "df.dropna(subset=['Review', 'Rating'], inplace=True)\n",
    "\n",
    "def analyze_sentiment(review):\n",
    "    scores = sia.polarity_scores(review)\n",
    "    return scores\n",
    "\n",
    "# Apply the sentiment analysis function to the 'Review' column\n",
    "df['Score'] = df['Review'].apply(analyze_sentiment)\n",
    "\n",
    "def set_sentiment(score):\n",
    "    if score['compound'] >= 0.5:\n",
    "        return 'positive'\n",
    "    elif score['compound'] <= -0.5:\n",
    "        return 'negative'\n",
    "    else:\n",
    "        return 'neutral'\n",
    "\n",
    "df['Sentiment'] = df['Score'].apply(set_sentiment)\n",
    "\n",
    "# Saving the results to a new CSV file\n",
    "output_file_path = '../review_data/dataset_7(senti).csv'\n",
    "output_file_path = '../analyzed_data/vader_analyzed_data.csv'\n",
    "df.to_csv(output_file_path, index=False)"
   ]
  },
  {
   "cell_type": "markdown",
   "metadata": {},
   "source": [
    "<a id=\"section-3\"></a>\n",
    "# <div style=\"padding: 30px; color:white; margin:10; font-size:75%; text-align:left; display:fill; border-radius:10px; background-color:#3b3745\"><b><span style='color:#F1A424'>3 |</span></b> <b>  TextBlob Modelling</b></div>"
   ]
  },
  {
   "cell_type": "code",
   "execution_count": null,
   "metadata": {},
   "outputs": [],
   "source": [
    "# Read the CSV file\n",
    "file_path = 'review_data/transulated_all_products_data.csv'\n",
    "df = pd.read_csv(file_path)\n",
    "\n",
    "# Function to determine sentiment using TextBlob\n",
    "def get_sentiment(review):\n",
    "    analysis = TextBlob(review)\n",
    "    if analysis.sentiment.polarity > 0:\n",
    "        return 'positive'\n",
    "    elif analysis.sentiment.polarity < 0:\n",
    "        return 'negative'\n",
    "    else:\n",
    "        return 'neutral'\n",
    "\n",
    "# Apply the function to create the Sentiment column\n",
    "df['Sentiment'] = df['Review'].apply(get_sentiment)\n",
    "\n",
    "# Save the new dataframe with Sentiment column\n",
    "df.to_csv('analyzed_data/textblob_analyzed_data.csv', index=False)\n",
    "\n",
    "# Print the first few rows of the updated dataframe\n",
    "print(df.head())\n"
   ]
  },
  {
   "cell_type": "markdown",
   "metadata": {},
   "source": [
    "                                   This concludes the analysis presented in this notebook.\n"
   ]
  },
  {
   "cell_type": "code",
   "execution_count": null,
   "metadata": {},
   "outputs": [],
   "source": []
  }
 ],
 "metadata": {
  "kernelspec": {
   "display_name": "Python 3 (ipykernel)",
   "language": "python",
   "name": "python3"
  },
  "language_info": {
   "codemirror_mode": {
    "name": "ipython",
    "version": 3
   },
   "file_extension": ".py",
   "mimetype": "text/x-python",
   "name": "python",
   "nbconvert_exporter": "python",
   "pygments_lexer": "ipython3",
   "version": "3.12.3"
  }
 },
 "nbformat": 4,
 "nbformat_minor": 4
}
